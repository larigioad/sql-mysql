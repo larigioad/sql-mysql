{
  "nbformat": 4,
  "nbformat_minor": 0,
  "metadata": {
    "colab": {
      "provenance": [],
      "authorship_tag": "ABX9TyNYVe3kSIxwTnGfn/xv6KHa",
      "include_colab_link": true
    },
    "kernelspec": {
      "name": "python3",
      "display_name": "Python 3"
    },
    "language_info": {
      "name": "python"
    }
  },
  "cells": [
    {
      "cell_type": "markdown",
      "metadata": {
        "id": "view-in-github",
        "colab_type": "text"
      },
      "source": [
        "<a href=\"https://colab.research.google.com/github/larigioad/sql-mysql/blob/main/Analise_credito_SQL.ipynb\" target=\"_parent\"><img src=\"https://colab.research.google.com/assets/colab-badge.svg\" alt=\"Open In Colab\"/></a>"
      ]
    },
    {
      "cell_type": "markdown",
      "source": [
        "## **SQL - Primeiras Análises de Dados com SQL** \n",
        "\n"
      ],
      "metadata": {
        "id": "IB91XuAIhlDc"
      }
    },
    {
      "cell_type": "markdown",
      "source": [
        "- Baixe o arquivo credito.sql\n",
        "- Coloque dentro de uma bucket (Standard, fine-grained)\n",
        "- Crie uma instância de um Banco de Dados MySQL\n",
        "- Crie um banco de dados novo\n",
        "- Importar o arquivo credito.sql\n",
        "\n",
        "Ao gerar a tabela do SQL, vocês irão começar com Análises sobre os dados. Utilize o conhecimento adquirido em Pandas para identificar suas próprias análises, além das Análises sugeridas Abaixo. \n",
        "\n",
        "1) Mostrar o tipo das colunas da tabela credito.\n",
        "\n",
        "2) Mostrar o total de registros da tabela credito.\n",
        "\n",
        "3) Mostrar apenas as primeiras 20 linhas tabela credito.\n",
        "\n",
        "4) Mostrar a quantidade de pessoas por nível de escolaridade.\n",
        "\n",
        "5) Mostrar a quantidade de pessoas por estado civil.\n",
        "\n",
        "6) Mostrar a quantidade de pessoas por faixa salarial.\n",
        "\n",
        "7) Mostrar os tipos de cartão da tabela credito.\n",
        "\n",
        "8) Mostrar a quantidade de gêneros existentes nessa tabela.\n",
        "\n",
        "9) Mostrar a quantidade de pessoas por gênero.\n",
        "\n",
        "10) Verificar a quantidade em porcentagem de pessoas que possuem mestrado, em relação aos outros níveis de escolaridade.\n",
        "\n",
        "11) Quantos grupos de pessoas com mestrado podemos ter usando escolaridade, estado civil como filtros?\n",
        "\n",
        "12) Qual o total de pessoas com escolaridade mestrado e estado civil casado?\n",
        "\n",
        "13) Qual cartão essas pessoas do exercício anterior possuem?\n",
        "\n",
        "14) Quantos grupos de pessoas com mestrado podemos ter usando escolaridade, estado civil e salário anual como filtros?\n",
        "\n",
        "15) Mostrar o total de clientes da base.\n",
        "\n",
        "16) Mostrar quantas pessoas deixaram de responder alguma informação sobre escolaridade, estado civil ou Salario Anual (Considerar o nulo como 'na') e quantas responderam.\n",
        "\n",
        "17)Quantos clientes não informaram o salario anual?\n",
        "\n",
        "18) Qual é o cartão das pessoas que não informaram salario anual na base?\n",
        " \n",
        "19) Qual é o menor e o maior limite de crédito das pessoas que não informaram salario anual na base?\n",
        "\n",
        "20) Qual é a quantidade de pessoas que não declararam nenhuma dessas três informações (escolaridade, estado civil e salário anual) contida nesta base?\n",
        "\n",
        "21) sobre essas pessoas que possuem cartão e que não declararam essas informações, quanto de limite de crédito tem cada uma?"
      ],
      "metadata": {
        "id": "a41b8HDphuAL"
      }
    },
    {
      "cell_type": "code",
      "execution_count": null,
      "metadata": {
        "id": "UYo1d-YDgmAM"
      },
      "outputs": [],
      "source": [
        "# Criando o database 'credito' e fazendo upload do arquivo:\n",
        "\n",
        "mysql> show databases;\n",
        "+--------------------+\n",
        "| Database           |\n",
        "+--------------------+\n",
        "| information_schema |\n",
        "| mysql              |\n",
        "| performance_schema |\n",
        "| sys                |\n",
        "+--------------------+\n",
        "\n",
        "mysql> CREATE database credito;\n",
        "Query OK, 1 row affected (0.07 sec)\n",
        "\n",
        "mysql> show databases;\n",
        "+--------------------+\n",
        "| Database           |\n",
        "+--------------------+\n",
        "| credito            |\n",
        "| information_schema |\n",
        "| mysql              |\n",
        "| performance_schema |\n",
        "| sys                |\n",
        "+--------------------+\n",
        "5 rows in set (0.06 sec)\n",
        "\n",
        "mysql> use credito;\n",
        "Reading table information for completion of table and column names\n",
        "You can turn off this feature to get a quicker startup with -A\n",
        "\n",
        "Database changed"
      ]
    },
    {
      "cell_type": "code",
      "source": [
        "# 1) Mostrar o tipo das colunas da tabela credito.\n",
        "\n",
        "mysql> show tables;\n",
        "+-------------------+\n",
        "| Tables_in_credito |\n",
        "+-------------------+\n",
        "| creditos          |\n",
        "+-------------------+\n",
        "1 row in set (0.06 sec)\n",
        "\n",
        "mysql> describe creditos;\n",
        "+-------------------------+-------------+------+-----+---------+-------+\n",
        "| Field                   | Type        | Null | Key | Default | Extra |\n",
        "+-------------------------+-------------+------+-----+---------+-------+\n",
        "| id                      | int         | NO   | PRI | NULL    |       |\n",
        "| padrao                  | int         | NO   |     | NULL    |       |\n",
        "| idade                   | int         | NO   |     | NULL    |       |\n",
        "| sexo                    | varchar(1)  | NO   |     | NULL    |       |\n",
        "| dependentes             | int         | NO   |     | NULL    |       |\n",
        "| escolaridade            | varchar(19) | NO   |     | NULL    |       |\n",
        "| estado_civil            | varchar(10) | NO   |     | NULL    |       |\n",
        "| salario_anual           | varchar(14) | NO   |     | NULL    |       |\n",
        "| tipo_cartao             | varchar(8)  | NO   |     | NULL    |       |\n",
        "| meses_de_relacionamento | int         | NO   |     | NULL    |       |\n",
        "| qtd_produtos            | int         | NO   |     | NULL    |       |\n",
        "| iteracoes_12m           | int         | NO   |     | NULL    |       |\n",
        "| meses_inativo_12m       | int         | NO   |     | NULL    |       |\n",
        "| limite_credito          | varchar(9)  | NO   |     | NULL    |       |\n",
        "| valor_transacoes_12m    | varchar(9)  | NO   |     | NULL    |       |\n",
        "| qtd_transacoes_12m      | int         | NO   |     | NULL    |       |\n",
        "+-------------------------+-------------+------+-----+---------+-------+\n"
      ],
      "metadata": {
        "id": "6P7uD419ijRS"
      },
      "execution_count": null,
      "outputs": []
    },
    {
      "cell_type": "code",
      "source": [
        "# 2) Mostrar o total de registros da tabela credito.\n",
        "\n",
        "mysql> SELECT COUNT(*) FROM creditos;\n",
        "+----------+\n",
        "| COUNT(*) |\n",
        "+----------+\n",
        "|    10127 |\n",
        "+----------+\n"
      ],
      "metadata": {
        "id": "6a3U7gMEi2rV"
      },
      "execution_count": null,
      "outputs": []
    },
    {
      "cell_type": "code",
      "source": [
        "# 3) Mostrar apenas as primeiras 20 linhas tabela credito.\n",
        "\n",
        "mysql> SELECT * FROM creditos LIMIT 20;                                                                                                                                                             \n",
        "+-----------+--------+-------+------+-------------+---------------------+--------------+----------------+-------------+-------------------------+--------------+---------------+-------------------+----------------+----------------------+--------------------+\n",
        "| id        | padrao | idade | sexo | dependentes | escolaridade        | estado_civil | salario_anual  | tipo_cartao | meses_de_relacionamento | qtd_produtos | iteracoes_12m | meses_inativo_12m | limite_credito | valor_transacoes_12m | qtd_transacoes_12m |\n",
        "+-----------+--------+-------+------+-------------+---------------------+--------------+----------------+-------------+-------------------------+--------------+---------------+-------------------+----------------+----------------------+--------------------+\n",
        "| 708082083 |      0 |    45 | F    |           3 | ensino medio        | casado       | menos que $40K | blue        |                      36 |            4 |             3 |                 3 | 3.544,02       | 15.149,31            |                111 |\n",
        "| 708083283 |      1 |    58 | M    |           0 | na                  | solteiro     | $40K - $60K    | blue        |                      45 |            3 |             3 |                 1 | 3.421,03       | 992,47               |                 21 |\n",
        "| 708084558 |      1 |    46 | M    |           3 | doutorado           | divorciado   | $80K - $120K   | blue        |                      38 |            6 |             3 |                 3 | 8.258,61       | 1.447,53             |                 23 |\n",
        "| 708085458 |      0 |    34 | F    |           2 | sem educacao formal | solteiro     | menos que $40K | blue        |                      24 |            6 |             2 |                 2 | 1.438,55       | 3.940,59             |                 82 |\n",
        "| 708086958 |      0 |    49 | F    |           2 | sem educacao formal | casado       | na             | blue        |                      41 |            3 |             2 |                 5 | 3.128,46       | 4.369,86             |                 59 |\n",
        "| 708095133 |      0 |    43 | M    |           4 | na                  | na           | $120K +        | blue        |                      34 |            5 |             2 |                 2 | 33.304,71      | 1.448,54             |                 29 |\n",
        "| 708098133 |      0 |    32 | F    |           0 | mestrado            | casado       | menos que $40K | blue        |                      19 |            6 |             0 |                 1 | 2.834,54       | 1.598,37             |                 39 |\n",
        "| 708099183 |      0 |    37 | F    |           2 | ensino medio        | solteiro     | menos que $40K | blue        |                      36 |            4 |             2 |                 2 | 5.723,85       | 2.732,91             |                 63 |\n",
        "| 708100533 |      0 |    55 | F    |           3 | graduacao           | solteiro     | menos que $40K | blue        |                      36 |            3 |             3 |                 3 | 2.679,04       | 4.943,89             |                 85 |\n",
        "| 708103608 |      0 |    52 | M    |           1 | ensino medio        | solteiro     | $60K - $80K    | blue        |                      45 |            1 |             1 |                 5 | 11.898,27      | 15.798,92            |                128 |\n",
        "| 708104658 |      0 |    46 | M    |           1 | mestrado            | na           | $40K - $60K    | blue        |                      36 |            4 |             2 |                 3 | 1.438,27       | 2.928,52             |                 48 |\n",
        "| 708108333 |      1 |    47 | F    |           3 | mestrado            | casado       | na             | blue        |                      36 |            3 |             1 |                 3 | 5.590,55       | 1.507,81             |                 32 |\n",
        "| 708112008 |      0 |    56 | M    |           2 | mestrado            | casado       | $80K - $120K   | blue        |                      36 |            4 |             3 |                 2 | 23.510,11      | 1.661,27             |                 35 |\n",
        "| 708113208 |      0 |    53 | F    |           1 | ensino medio        | casado       | menos que $40K | blue        |                      36 |            3 |             2 |                 2 | 1.688,98       | 4.375,24             |                 69 |\n",
        "| 708117933 |      1 |    44 | F    |           2 | mestrado            | divorciado   | menos que $40K | blue        |                      36 |            3 |             3 |                 2 | 1.880,06       | 2.469,56             |                 34 |\n",
        "| 708119658 |      0 |    49 | F    |           4 | mestrado            | casado       | $40K - $60K    | blue        |                      38 |            4 |             1 |                 2 | 12.836,35      | 2.519,14             |                 53 |\n",
        "| 708121908 |      1 |    48 | M    |           4 | na                  | casado       | $80K - $120K   | blue        |                      36 |            2 |             2 |                 3 | 22.917,99      | 2.045,56             |                 45 |\n",
        "| 708123033 |      0 |    41 | F    |           3 | mestrado            | solteiro     | menos que $40K | silver      |                      30 |            2 |             1 |                 1 | 11.463,91      | 14.511,78            |                105 |\n",
        "| 708125733 |      0 |    46 | F    |           2 | graduacao           | divorciado   | menos que $40K | blue        |                      36 |            4 |             1 |                 3 | 1.438,36       | 4.311,17             |                 77 |\n",
        "| 708128733 |      0 |    50 | F    |           3 | doutorado           | solteiro     | na             | blue        |                      36 |            5 |             3 |                 4 | 1.814,86       | 5.014,72             |                 99 |\n",
        "+-----------+--------+-------+------+-------------+---------------------+--------------+----------------+-------------+-------------------------+--------------+---------------+-------------------+----------------+----------------------+--------------------+\n",
        "20 rows in set (0.07 sec)"
      ],
      "metadata": {
        "id": "uP02UeTTkCBo"
      },
      "execution_count": null,
      "outputs": []
    },
    {
      "cell_type": "code",
      "source": [
        "# 4) Mostrar a quantidade de pessoas por nível de escolaridade.\n",
        "\n",
        "mysql> SELECT escolaridade, COUNT(*) FROM creditos GROUP BY escolaridade;\n",
        "+---------------------+----------+\n",
        "| escolaridade        | COUNT(*) |\n",
        "+---------------------+----------+\n",
        "| ensino medio        |     2013 |\n",
        "| na                  |     1519 |\n",
        "| doutorado           |      967 |\n",
        "| sem educacao formal |     1487 |\n",
        "| mestrado            |     3128 |\n",
        "| graduacao           |     1013 |\n",
        "+---------------------+----------+\n",
        "6 rows in set (0.08 sec)\n"
      ],
      "metadata": {
        "id": "r7TRy7TBl5-r"
      },
      "execution_count": null,
      "outputs": []
    },
    {
      "cell_type": "code",
      "source": [
        "# 5) Mostrar a quantidade de pessoas por estado civil.\n",
        "\n",
        "mysql> SELECT estado_civil, COUNT(*) FROM creditos GROUP BY estado_civil;\n",
        "+--------------+----------+\n",
        "| estado_civil | COUNT(*) |\n",
        "+--------------+----------+\n",
        "| casado       |     4687 |\n",
        "| solteiro     |     3943 |\n",
        "| divorciado   |      748 |\n",
        "| na           |      749 |\n",
        "+--------------+----------+\n",
        "4 rows in set (0.07 sec)\n"
      ],
      "metadata": {
        "id": "6iZmW_n6nSij"
      },
      "execution_count": null,
      "outputs": []
    },
    {
      "cell_type": "code",
      "source": [
        "# 6) Mostrar a quantidade de pessoas por faixa salarial.\n",
        "\n",
        "mysql> SELECT salario_anual, COUNT(*) FROM creditos GROUP BY salario_anual;\n",
        "+----------------+----------+\n",
        "| salario_anual  | COUNT(*) |\n",
        "+----------------+----------+\n",
        "| menos que $40K |     3561 |\n",
        "| $40K - $60K    |     1790 |\n",
        "| $80K - $120K   |     1535 |\n",
        "| na             |     1112 |\n",
        "| $120K +        |      727 |\n",
        "| $60K - $80K    |     1402 |\n",
        "+----------------+----------+\n",
        "6 rows in set (0.07 sec)\n"
      ],
      "metadata": {
        "id": "Owg7kA4vnhhH"
      },
      "execution_count": null,
      "outputs": []
    },
    {
      "cell_type": "code",
      "source": [
        "# 7) Mostrar os tipos de cartão da tabela credito.\n",
        "\n",
        "mysql> SELECT DISTINCT tipo_cartao FROM creditos;\n",
        "+-------------+\n",
        "| tipo_cartao |\n",
        "+-------------+\n",
        "| blue        |\n",
        "| silver      |\n",
        "| gold        |\n",
        "| platinum    |\n",
        "+-------------+\n",
        "4 rows in set (0.07 sec)\n"
      ],
      "metadata": {
        "id": "ydhtUOOcnyuf"
      },
      "execution_count": null,
      "outputs": []
    },
    {
      "cell_type": "code",
      "source": [
        "# 8) Mostrar a quantidade de gêneros existentes nessa tabela.\n",
        "\n",
        "mysql> SELECT COUNT(DISTINCT sexo) FROM creditos;\n",
        "+-----------------------+\n",
        "| COUNT( DISTINCT sexo) |\n",
        "+-----------------------+\n",
        "|                     2 |\n",
        "+-----------------------+\n",
        "1 row in set (0.07 sec)\n",
        "\n",
        "mysql> SELECT DISTINCT sexo FROM creditos;\n",
        "+------+\n",
        "| sexo |\n",
        "+------+\n",
        "| F    |\n",
        "| M    |\n",
        "+------+\n",
        "2 rows in set (0.07 sec)\n"
      ],
      "metadata": {
        "id": "11YxHejlol_t"
      },
      "execution_count": null,
      "outputs": []
    },
    {
      "cell_type": "code",
      "source": [
        "# 9) Mostrar a quantidade de pessoas por gênero.\n",
        "\n",
        "mysql> SELECT sexo, COUNT(*) FROM creditos GROUP BY sexo;\n",
        "+------+----------+\n",
        "| sexo | COUNT(*) |\n",
        "+------+----------+\n",
        "| F    |     5358 |\n",
        "| M    |     4769 |\n",
        "+------+----------+\n",
        "2 rows in set (0.07 sec)\n"
      ],
      "metadata": {
        "id": "w6ZpBA5QpSBc"
      },
      "execution_count": null,
      "outputs": []
    },
    {
      "cell_type": "code",
      "source": [
        "# 10) Verificar a quantidade em porcentagem de pessoas que possuem mestrado, em relação aos outros níveis de escolaridade.\n",
        "\n",
        "#numero de pessoas que possuem mestrado\n",
        "mysql> SELECT COUNT(*) FROM creditos WHERE escolaridade = 'mestrado';\n",
        "+----------+\n",
        "| COUNT(*) |\n",
        "+----------+\n",
        "|     3128 |\n",
        "+----------+\n",
        "1 row in set (0.07 sec)\n",
        "\n",
        "#porcentagem de pessoas que possuem mestrado\n",
        "mysql> SELECT COUNT(*) * 100.0 / (SELECT COUNT(*) FROM creditos) AS porcentagem_mestrado\n",
        "    -> FROM creditos\n",
        "    -> WHERE escolaridade = 'mestrado';\n",
        "+----------------------+\n",
        "| porcentagem_mestrado |\n",
        "+----------------------+\n",
        "|             30.88773 |\n",
        "+----------------------+\n",
        "1 row in set (0.07 sec)\n"
      ],
      "metadata": {
        "id": "lOx8JnpBpxxw"
      },
      "execution_count": null,
      "outputs": []
    },
    {
      "cell_type": "code",
      "source": [
        "# 11) Quantos grupos de pessoas com mestrado podemos ter usando escolaridade, estado civil como filtros?\n",
        "\n",
        "mysql> SELECT escolaridade, estado_civil, COUNT(*) FROM creditos WHERE escolaridade = 'mestrado' GROUP BY estado_civil;\n",
        "+--------------+--------------+----------+\n",
        "| escolaridade | estado_civil | COUNT(*) |\n",
        "+--------------+--------------+----------+\n",
        "| mestrado     | casado       |     1479 |\n",
        "| mestrado     | na           |      227 |\n",
        "| mestrado     | divorciado   |      225 |\n",
        "| mestrado     | solteiro     |     1197 |\n",
        "+--------------+--------------+----------+\n"
      ],
      "metadata": {
        "id": "Y_TlUQ7MtP_l"
      },
      "execution_count": null,
      "outputs": []
    },
    {
      "cell_type": "code",
      "source": [
        "# 12) Qual o total de pessoas com escolaridade mestrado e estado civil casado?\n",
        "\n",
        "mysql> SELECT escolaridade, estado_civil, COUNT(*) FROM creditos WHERE escolaridade = 'mestrado' AND estado_civil = 'casado';\n",
        "+--------------+--------------+----------+\n",
        "| escolaridade | estado_civil | COUNT(*) |\n",
        "+--------------+--------------+----------+\n",
        "| mestrado     | casado       |     1479 |\n",
        "+--------------+--------------+----------+\n",
        "1 row in set (0.07 sec)\n"
      ],
      "metadata": {
        "id": "oho5XcOoxbgH"
      },
      "execution_count": null,
      "outputs": []
    },
    {
      "cell_type": "code",
      "source": [
        "# 13) Qual cartão essas pessoas do exercício anterior possuem?\n",
        "\n",
        "mysql> SELECT escolaridade, estado_civil, tipo_cartao, COUNT(*) FROM creditos WHERE escolaridade = 'mestrado' AND estado_civil = 'casado' GROUP BY tipo_cartao;\n",
        "+--------------+--------------+-------------+----------+\n",
        "| escolaridade | estado_civil | tipo_cartao | COUNT(*) |\n",
        "+--------------+--------------+-------------+----------+\n",
        "| mestrado     | casado       | blue        |     1391 |\n",
        "| mestrado     | casado       | silver      |       75 |\n",
        "| mestrado     | casado       | gold        |       12 |\n",
        "| mestrado     | casado       | platinum    |        1 |\n",
        "+--------------+--------------+-------------+----------+\n",
        "4 rows in set (0.07 sec)\n"
      ],
      "metadata": {
        "id": "c2m61XFWx1M4"
      },
      "execution_count": null,
      "outputs": []
    },
    {
      "cell_type": "code",
      "source": [
        "# 14) Quantos grupos de pessoas com mestrado podemos ter usando escolaridade, estado civil e salário anual como filtros?\n",
        "\n",
        "mysql> SELECT escolaridade, estado_civil, salario_anual, COUNT(*) FROM creditos WHERE escolaridade = 'mestrado' GROUP BY estado_civil, salario_anual;\n",
        "+--------------+--------------+----------------+----------+\n",
        "| escolaridade | estado_civil | salario_anual  | COUNT(*) |\n",
        "+--------------+--------------+----------------+----------+\n",
        "| mestrado     | casado       | menos que $40K |      528 |\n",
        "| mestrado     | na           | $40K - $60K    |       44 |\n",
        "| mestrado     | casado       | na             |      153 |\n",
        "| mestrado     | casado       | $80K - $120K   |      239 |\n",
        "| mestrado     | divorciado   | menos que $40K |       77 |\n",
        "| mestrado     | casado       | $40K - $60K    |      251 |\n",
        "| mestrado     | solteiro     | menos que $40K |      447 |\n",
        "| mestrado     | na           | $60K - $80K    |       35 |\n",
        "| mestrado     | divorciado   | na             |       29 |\n",
        "| mestrado     | solteiro     | $40K - $60K    |      217 |\n",
        "| mestrado     | casado       | $60K - $80K    |      205 |\n",
        "| mestrado     | solteiro     | $60K - $80K    |      147 |\n",
        "| mestrado     | solteiro     | $80K - $120K   |      174 |\n",
        "| mestrado     | divorciado   | $120K +        |       11 |\n",
        "| mestrado     | solteiro     | na             |      128 |\n",
        "| mestrado     | casado       | $120K +        |      103 |\n",
        "| mestrado     | na           | menos que $40K |       87 |\n",
        "| mestrado     | na           | na             |       22 |\n",
        "| mestrado     | divorciado   | $40K - $60K    |       41 |\n",
        "| mestrado     | solteiro     | $120K +        |       84 |\n",
        "| mestrado     | divorciado   | $80K - $120K   |       32 |\n",
        "| mestrado     | divorciado   | $60K - $80K    |       35 |\n",
        "| mestrado     | na           | $80K - $120K   |       33 |\n",
        "| mestrado     | na           | $120K +        |        6 |\n",
        "+--------------+--------------+----------------+----------+\n",
        "24 rows in set (0.07 sec)\n"
      ],
      "metadata": {
        "id": "-pKchzctyNE_"
      },
      "execution_count": null,
      "outputs": []
    },
    {
      "cell_type": "code",
      "source": [
        "# 15) Mostrar o total de clientes da base.\n",
        "\n",
        "mysql> SELECT COUNT(DISTINCT id) FROM creditos;\n",
        "+--------------------+\n",
        "| COUNT(DISTINCT id) |\n",
        "+--------------------+\n",
        "|              10127 |\n",
        "+--------------------+\n",
        "1 row in set (0.06 sec)\n"
      ],
      "metadata": {
        "id": "ucD86dQly7Zj"
      },
      "execution_count": null,
      "outputs": []
    },
    {
      "cell_type": "code",
      "source": [
        "# 16) Mostrar quantas pessoas deixaram de responder alguma informação sobre escolaridade, estado civil ou Salario Anual (Considerar o nulo como 'na') e quantas responderam.\n",
        "\n",
        "#Escolaridade\n",
        "# quantas pessoas deixaram de responder:\n",
        "mysql> SELECT COUNT(escolaridade) FROM creditos WHERE escolaridade = 'na';\n",
        "+---------------------+\n",
        "| COUNT(escolaridade) |\n",
        "+---------------------+\n",
        "|                1519 |\n",
        "+---------------------+\n",
        "1 row in set (0.07 sec)\n",
        "# quantas pessoas responderam:\n",
        "mysql> SELECT COUNT(escolaridade) FROM creditos WHERE NOT  escolaridade = 'na';\n",
        "+---------------------+\n",
        "| COUNT(escolaridade) |\n",
        "+---------------------+\n",
        "|                8608 |\n",
        "+---------------------+\n",
        "1 row in set (0.06 sec)\n",
        "\n",
        "\n",
        "\n",
        "#Estado civil\n",
        "#quantas pessoas deixaram de responder:\n",
        "mysql> SELECT COUNT(estado_civil) FROM creditos WHERE estado_civil = 'na';\n",
        "+---------------------+\n",
        "| COUNT(estado_civil) |\n",
        "+---------------------+\n",
        "|                 749 |\n",
        "+---------------------+\n",
        "1 row in set (0.07 sec)\n",
        "#quantas pessoas responderam:\n",
        "mysql> SELECT COUNT(estado_civil) FROM creditos WHERE NOT  estado_civil = 'na';\n",
        "+---------------------+\n",
        "| COUNT(estado_civil) |\n",
        "+---------------------+\n",
        "|                9378 |\n",
        "+---------------------+\n",
        "1 row in set (0.06 sec)\n",
        "\n",
        "\n",
        "\n",
        "#Salario anual\n",
        "#quantas pessoas deixaram de responder:\n",
        "mysql> SELECT COUNT(salario_anual) FROM creditos WHERE salario_anual = 'na';\n",
        "+----------------------+\n",
        "| COUNT(salario_anual) |\n",
        "+----------------------+\n",
        "|                 1112 |\n",
        "+----------------------+\n",
        "1 row in set (0.07 sec)\n",
        "#quantas pessoas responderam:\n",
        "mysql> SELECT COUNT(salario_anual) FROM creditos WHERE NOT salario_anual = 'na';\n",
        "+----------------------+\n",
        "| COUNT(salario_anual) |\n",
        "+----------------------+\n",
        "|                 9015 |\n",
        "+----------------------+\n",
        "1 row in set (0.06 sec)\n"
      ],
      "metadata": {
        "id": "6s3Ye4lCzhqX"
      },
      "execution_count": null,
      "outputs": []
    },
    {
      "cell_type": "code",
      "source": [
        "# 17)Quantos clientes não informaram o salario anual?\n",
        "\n",
        "mysql> SELECT COUNT(salario_anual) FROM creditos WHERE salario_anual = 'na';\n",
        "+----------------------+\n",
        "| COUNT(salario_anual) |\n",
        "+----------------------+\n",
        "|                 1112 |\n",
        "+----------------------+\n",
        "1 row in set (0.07 sec)\n"
      ],
      "metadata": {
        "id": "HTFlnWFs3xSO"
      },
      "execution_count": null,
      "outputs": []
    },
    {
      "cell_type": "code",
      "source": [
        "# 18) Qual é o cartão das pessoas que não informaram salario anual na base?\n",
        "\n",
        "mysql> SELECT salario_anual, tipo_cartao, COUNT(*) FROM creditos WHERE salario_anual = 'na' GROUP BY tipo_cartao;\n",
        "+---------------+-------------+----------+\n",
        "| salario_anual | tipo_cartao | COUNT(*) |\n",
        "+---------------+-------------+----------+\n",
        "| na            | blue        |     1045 |\n",
        "| na            | silver      |       53 |\n",
        "| na            | gold        |        9 |\n",
        "| na            | platinum    |        5 |\n",
        "+---------------+-------------+----------+\n",
        "4 rows in set (0.07 sec)\n"
      ],
      "metadata": {
        "id": "B1AFMi5b4G1w"
      },
      "execution_count": null,
      "outputs": []
    },
    {
      "cell_type": "code",
      "source": [
        "# 19) Qual é o menor e o maior limite de crédito das pessoas que não informaram salario anual na base?\n",
        "\n",
        "mysql> SELECT MIN(limite_credito) AS menor_limite, MAX(limite_credito) AS menor_limite FROM creditos WHERE salario_anual = 'na';\n",
        "+--------------+--------------+\n",
        "| menor_limite | menor_limite |\n",
        "+--------------+--------------+\n",
        "| 1.438,05     | 9.989,82     |\n",
        "+--------------+--------------+\n",
        "1 row in set (0.06 sec)\n"
      ],
      "metadata": {
        "id": "plQigoYR4cqt"
      },
      "execution_count": null,
      "outputs": []
    },
    {
      "cell_type": "code",
      "source": [
        "# 20) Qual é a quantidade de pessoas que não declararam nenhuma dessas três informações (escolaridade, estado civil e salário anual) contida nesta base?\n",
        "\n",
        "mysql> SELECT COUNT(id) FROM creditos WHERE escolaridade = 'na' AND estado_civil = 'na' AND salario_anual = 'na';\n",
        "+-----------+\n",
        "| COUNT(id) |\n",
        "+-----------+\n",
        "|         7 |\n",
        "+-----------+\n",
        "1 row in set (0.06 sec)\n"
      ],
      "metadata": {
        "id": "QAjWickX5Ce7"
      },
      "execution_count": null,
      "outputs": []
    },
    {
      "cell_type": "code",
      "source": [
        "# 21) Sobre essas pessoas que possuem cartão e que não declararam essas informações, quanto de limite de crédito tem cada uma?\n",
        "\n",
        "mysql> SELECT id,limite_credito FROM creditos WHERE escolaridade = 'na' AND estado_civil = 'na' AND salario_anual = 'na';\n",
        "+-----------+----------------+\n",
        "| id        | limite_credito |\n",
        "+-----------+----------------+\n",
        "| 709375158 | 7.270,56       |\n",
        "| 712019883 | 12.778,47      |\n",
        "| 714127383 | 4.431,84       |\n",
        "| 715007583 | 1.801,66       |\n",
        "| 719329983 | 15.648,25      |\n",
        "| 755959683 | 3.410,15       |\n",
        "| 769701258 | 12.463,36      |\n",
        "+-----------+----------------+\n",
        "7 rows in set (0.07 sec)\n"
      ],
      "metadata": {
        "id": "Drg2l0f35HX8"
      },
      "execution_count": null,
      "outputs": []
    }
  ]
}